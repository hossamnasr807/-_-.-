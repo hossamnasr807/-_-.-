{
 "cells": [
  {
   "cell_type": "code",
   "execution_count": 1,
   "metadata": {},
   "outputs": [
    {
     "name": "stdout",
     "output_type": "stream",
     "text": [
      "Collecting translate\n",
      "  Downloading translate-3.6.1-py2.py3-none-any.whl.metadata (7.7 kB)\n",
      "Requirement already satisfied: click in c:\\users\\hossa\\appdata\\local\\programs\\python\\python311\\lib\\site-packages (from translate) (8.1.7)\n",
      "Collecting lxml (from translate)\n",
      "  Downloading lxml-5.2.2-cp311-cp311-win_amd64.whl.metadata (3.5 kB)\n",
      "Requirement already satisfied: requests in c:\\users\\hossa\\appdata\\local\\programs\\python\\python311\\lib\\site-packages (from translate) (2.31.0)\n",
      "Collecting libretranslatepy==2.1.1 (from translate)\n",
      "  Downloading libretranslatepy-2.1.1-py3-none-any.whl.metadata (233 bytes)\n",
      "Requirement already satisfied: colorama in c:\\users\\hossa\\appdata\\roaming\\python\\python311\\site-packages (from click->translate) (0.4.6)\n",
      "Requirement already satisfied: charset-normalizer<4,>=2 in c:\\users\\hossa\\appdata\\local\\programs\\python\\python311\\lib\\site-packages (from requests->translate) (3.3.2)\n",
      "Requirement already satisfied: idna<4,>=2.5 in c:\\users\\hossa\\appdata\\local\\programs\\python\\python311\\lib\\site-packages (from requests->translate) (3.6)\n",
      "Requirement already satisfied: urllib3<3,>=1.21.1 in c:\\users\\hossa\\appdata\\local\\programs\\python\\python311\\lib\\site-packages (from requests->translate) (2.1.0)\n",
      "Requirement already satisfied: certifi>=2017.4.17 in c:\\users\\hossa\\appdata\\local\\programs\\python\\python311\\lib\\site-packages (from requests->translate) (2023.11.17)\n",
      "Downloading translate-3.6.1-py2.py3-none-any.whl (12 kB)\n",
      "Downloading libretranslatepy-2.1.1-py3-none-any.whl (3.2 kB)\n",
      "Downloading lxml-5.2.2-cp311-cp311-win_amd64.whl (3.8 MB)\n",
      "   ---------------------------------------- 0.0/3.8 MB ? eta -:--:--\n",
      "   ---------------------------------------- 0.0/3.8 MB ? eta -:--:--\n",
      "   ---------------------------------------- 0.0/3.8 MB 667.8 kB/s eta 0:00:06\n",
      "    --------------------------------------- 0.1/3.8 MB 919.0 kB/s eta 0:00:05\n",
      "    --------------------------------------- 0.1/3.8 MB 751.6 kB/s eta 0:00:05\n",
      "   - -------------------------------------- 0.1/3.8 MB 658.7 kB/s eta 0:00:06\n",
      "   - -------------------------------------- 0.2/3.8 MB 704.6 kB/s eta 0:00:06\n",
      "   -- ------------------------------------- 0.2/3.8 MB 811.5 kB/s eta 0:00:05\n",
      "   -- ------------------------------------- 0.3/3.8 MB 830.3 kB/s eta 0:00:05\n",
      "   --- ------------------------------------ 0.3/3.8 MB 925.5 kB/s eta 0:00:04\n",
      "   ---- ----------------------------------- 0.4/3.8 MB 971.5 kB/s eta 0:00:04\n",
      "   ---- ----------------------------------- 0.4/3.8 MB 983.6 kB/s eta 0:00:04\n",
      "   ----- ---------------------------------- 0.5/3.8 MB 1.0 MB/s eta 0:00:04\n",
      "   ------ --------------------------------- 0.6/3.8 MB 1.1 MB/s eta 0:00:03\n",
      "   ------ --------------------------------- 0.7/3.8 MB 1.1 MB/s eta 0:00:03\n",
      "   ------- -------------------------------- 0.7/3.8 MB 1.2 MB/s eta 0:00:03\n",
      "   -------- ------------------------------- 0.8/3.8 MB 1.2 MB/s eta 0:00:03\n",
      "   -------- ------------------------------- 0.8/3.8 MB 1.2 MB/s eta 0:00:03\n",
      "   --------- ------------------------------ 0.9/3.8 MB 1.3 MB/s eta 0:00:03\n",
      "   ---------- ----------------------------- 1.0/3.8 MB 1.3 MB/s eta 0:00:03\n",
      "   ------------ --------------------------- 1.1/3.8 MB 1.4 MB/s eta 0:00:02\n",
      "   ------------- -------------------------- 1.3/3.8 MB 1.4 MB/s eta 0:00:02\n",
      "   -------------- ------------------------- 1.4/3.8 MB 1.5 MB/s eta 0:00:02\n",
      "   --------------- ------------------------ 1.4/3.8 MB 1.5 MB/s eta 0:00:02\n",
      "   ---------------- ----------------------- 1.6/3.8 MB 1.6 MB/s eta 0:00:02\n",
      "   ----------------- ---------------------- 1.7/3.8 MB 1.6 MB/s eta 0:00:02\n",
      "   ------------------- -------------------- 1.8/3.8 MB 1.7 MB/s eta 0:00:02\n",
      "   ------------------- -------------------- 1.9/3.8 MB 1.7 MB/s eta 0:00:02\n",
      "   ------------------- -------------------- 1.9/3.8 MB 1.6 MB/s eta 0:00:02\n",
      "   ------------------- -------------------- 1.9/3.8 MB 1.6 MB/s eta 0:00:02\n",
      "   ------------------- -------------------- 1.9/3.8 MB 1.6 MB/s eta 0:00:02\n",
      "   --------------------- ------------------ 2.1/3.8 MB 1.6 MB/s eta 0:00:02\n",
      "   ---------------------- ----------------- 2.2/3.8 MB 1.6 MB/s eta 0:00:02\n",
      "   ----------------------- ---------------- 2.2/3.8 MB 1.6 MB/s eta 0:00:02\n",
      "   ------------------------ --------------- 2.3/3.8 MB 1.6 MB/s eta 0:00:01\n",
      "   ------------------------- -------------- 2.4/3.8 MB 1.6 MB/s eta 0:00:01\n",
      "   -------------------------- ------------- 2.5/3.8 MB 1.6 MB/s eta 0:00:01\n",
      "   --------------------------- ------------ 2.6/3.8 MB 1.6 MB/s eta 0:00:01\n",
      "   --------------------------- ------------ 2.6/3.8 MB 1.6 MB/s eta 0:00:01\n",
      "   --------------------------- ------------ 2.6/3.8 MB 1.6 MB/s eta 0:00:01\n",
      "   ---------------------------- ----------- 2.7/3.8 MB 1.6 MB/s eta 0:00:01\n",
      "   ----------------------------- ---------- 2.8/3.8 MB 1.6 MB/s eta 0:00:01\n",
      "   ------------------------------ --------- 2.9/3.8 MB 1.6 MB/s eta 0:00:01\n",
      "   ------------------------------ --------- 2.9/3.8 MB 1.6 MB/s eta 0:00:01\n",
      "   -------------------------------- ------- 3.1/3.8 MB 1.6 MB/s eta 0:00:01\n",
      "   --------------------------------- ------ 3.2/3.8 MB 1.6 MB/s eta 0:00:01\n",
      "   --------------------------------- ------ 3.2/3.8 MB 1.6 MB/s eta 0:00:01\n",
      "   --------------------------------- ------ 3.2/3.8 MB 1.6 MB/s eta 0:00:01\n",
      "   ---------------------------------- ----- 3.3/3.8 MB 1.6 MB/s eta 0:00:01\n",
      "   ----------------------------------- ---- 3.4/3.8 MB 1.6 MB/s eta 0:00:01\n",
      "   ------------------------------------- -- 3.5/3.8 MB 1.6 MB/s eta 0:00:01\n",
      "   -------------------------------------- - 3.6/3.8 MB 1.6 MB/s eta 0:00:01\n",
      "   ---------------------------------------  3.8/3.8 MB 1.7 MB/s eta 0:00:01\n",
      "   ---------------------------------------- 3.8/3.8 MB 1.7 MB/s eta 0:00:00\n",
      "Installing collected packages: libretranslatepy, lxml, translate\n",
      "Successfully installed libretranslatepy-2.1.1 lxml-5.2.2 translate-3.6.1\n",
      "Note: you may need to restart the kernel to use updated packages.\n"
     ]
    }
   ],
   "source": [
    "pip install translate"
   ]
  },
  {
   "cell_type": "code",
   "execution_count": 6,
   "metadata": {},
   "outputs": [
    {
     "name": "stdout",
     "output_type": "stream",
     "text": [
      "Original text: hello world\n",
      "Translated text: Hola Mundo\n"
     ]
    }
   ],
   "source": [
    "from translate import Translator\n",
    "\n",
    "def translate_text(text, target_language):\n",
    "    # Initialize the translator\n",
    "    translator = Translator(to_lang=target_language)\n",
    "\n",
    "    # Perform the translation\n",
    "    translated_text = translator.translate(text)\n",
    "\n",
    "    return translated_text\n",
    "\n",
    "if __name__ == \"__main__\":\n",
    "    # Sample text to translate\n",
    "    text_to_translate = \"hello world\"\n",
    "    target_language = \"es\"  # Spanish\n",
    "\n",
    "    # Translate the text\n",
    "    translated_text = translate_text(text_to_translate, target_language)\n",
    "\n",
    "    print(f\"Original text: {text_to_translate}\")\n",
    "    print(f\"Translated text: {translated_text}\")\n"
   ]
  },
  {
   "cell_type": "code",
   "execution_count": null,
   "metadata": {},
   "outputs": [],
   "source": []
  }
 ],
 "metadata": {
  "kernelspec": {
   "display_name": "Python 3",
   "language": "python",
   "name": "python3"
  },
  "language_info": {
   "codemirror_mode": {
    "name": "ipython",
    "version": 3
   },
   "file_extension": ".py",
   "mimetype": "text/x-python",
   "name": "python",
   "nbconvert_exporter": "python",
   "pygments_lexer": "ipython3",
   "version": "3.11.7"
  }
 },
 "nbformat": 4,
 "nbformat_minor": 2
}
